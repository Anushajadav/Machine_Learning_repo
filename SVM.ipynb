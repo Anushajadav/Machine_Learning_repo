{
 "cells": [
  {
   "cell_type": "code",
   "execution_count": 1,
   "metadata": {
    "scrolled": true
   },
   "outputs": [
    {
     "name": "stdout",
     "output_type": "stream",
     "text": [
      "     age  sex  cp  trestbps  chol  fbs  restecg  thalach  exang  oldpeak  \\\n",
      "0     63    1   3       145   233    1        0      150      0      2.3   \n",
      "1     37    1   2       130   250    0        1      187      0      3.5   \n",
      "2     41    0   1       130   204    0        0      172      0      1.4   \n",
      "3     56    1   1       120   236    0        1      178      0      0.8   \n",
      "4     57    0   0       120   354    0        1      163      1      0.6   \n",
      "..   ...  ...  ..       ...   ...  ...      ...      ...    ...      ...   \n",
      "298   57    0   0       140   241    0        1      123      1      0.2   \n",
      "299   45    1   3       110   264    0        1      132      0      1.2   \n",
      "300   68    1   0       144   193    1        1      141      0      3.4   \n",
      "301   57    1   0       130   131    0        1      115      1      1.2   \n",
      "302   57    0   1       130   236    0        0      174      0      0.0   \n",
      "\n",
      "     slope  ca  thal  target  \n",
      "0        0   0     1       1  \n",
      "1        0   0     2       1  \n",
      "2        2   0     2       1  \n",
      "3        2   0     2       1  \n",
      "4        2   0     2       1  \n",
      "..     ...  ..   ...     ...  \n",
      "298      1   0     3       0  \n",
      "299      1   0     3       0  \n",
      "300      1   2     3       0  \n",
      "301      1   1     3       0  \n",
      "302      1   1     2       0  \n",
      "\n",
      "[303 rows x 14 columns]\n",
      "  35   5\n",
      "   4  47\n",
      "False Positives\n",
      " [4 5]\n",
      "False Negetives\n",
      " [5 4]\n",
      "True Positives\n",
      " [35 47]\n",
      "True Negetives\n",
      " [47 35]\n",
      "Sensitivity \n",
      " [0.875      0.92156863]\n",
      "Specificity \n",
      " [0.92156863 0.875     ]\n",
      "Precision \n",
      " [0.8974359  0.90384615]\n",
      "Recall \n",
      " [0.875      0.92156863]\n",
      "Áccuracy \n",
      "[0.9010989 0.9010989]\n",
      "FScore \n",
      "[0.88607595 0.91262136]\n"
     ]
    }
   ],
   "source": [
    "import pandas as pd\n",
    "import numpy as np\n",
    "import matplotlib.pyplot as plt\n",
    "from sklearn.model_selection import train_test_split # Import train_test_split function\n",
    "from sklearn import svm #Import svm model\n",
    "from sklearn import metrics #Import scikit-learn metrics module for accuracy calculation\n",
    "from sklearn.metrics import confusion_matrix\n",
    "\n",
    "data = pd.read_csv(\"heart.csv\")\n",
    "## The data looks like this\n",
    " \n",
    "\n",
    "##\tage\tsex\tcp\ttrestbps\tchol\tfbs\trestecg\tthalach\texang\toldpeak\tslope\tca\tthal\ttarget\n",
    "##0\t63\t1\t3\t145\t233\t1\t0\t150\t0\t2.3\t0\t0\t1\t1\n",
    "##1\t37\t1\t2\t130\t250\t0\t1\t187\t0\t3.5\t0\t0\t2\t1\n",
    "##2\t41\t0\t1\t130\t204\t0\t0\t172\t0\t1.4\t2\t0\t2\t1\n",
    "##3\t56\t1\t1\t120\t236\t0\t1\t178\t0\t0.8\t2\t0\t2\t1\n",
    "##4\t57\t0\t0\t120\t354\t0\t1\t163\t1\t0.6\t2\t0\t2\t1\n",
    "\n",
    "\n",
    "\n",
    "#Separate the data -- last column 'target' is removed from the input feature set x\n",
    "x = data.drop('target',axis = 1) \n",
    "y = data.target\n",
    "\n",
    "#split the test set and train set\n",
    "x_train, x_test, y_train, y_test = train_test_split(x, y, test_size=0.3,random_state=109) # 70% training and 30% test\n",
    "\n",
    "\n",
    "\n",
    "#Create a svm Classifier\n",
    "ml = svm.SVC(kernel='linear') # Linear Kernel\n",
    "\n",
    "#Train the model using the training sets\n",
    "ml.fit(x_train, y_train)\n",
    "\n",
    "#Predict the response for test dataset\n",
    "y_pred = ml.predict(x_test)\n",
    "\n",
    "\n",
    "# Model Accuracy: how often is the classifier correct?\n",
    "#print(ml.score(x_test,y_test))\n",
    "cm = confusion_matrix(y_test,y_pred)\n",
    "print('\\n'.join([''.join(['{:4}'.format(item) for item in row]) for row in cm]))\n",
    "                \n",
    "FP = cm.sum(axis=0) - np.diag(cm)\n",
    "FN = cm.sum(axis=1) - np.diag(cm)\n",
    "TP = np.diag(cm)\n",
    "TN = cm.sum() - (FP + FN + TP)\n",
    "print('False Positives\\n {}'.format(FP))\n",
    "print('False Negetives\\n {}'.format(FN))\n",
    "print('True Positives\\n {}'.format(TP))\n",
    "print('True Negetives\\n {}'.format(TN))\n",
    "TPR = TP/(TP+FN)\n",
    "print('Sensitivity \\n {}'.format(TPR))\n",
    "TNR = TN/(TN+FP)\n",
    "print('Specificity \\n {}'.format(TNR))\n",
    "Precision = TP/(TP+FP)\n",
    "print('Precision \\n {}'.format(Precision))\n",
    "Recall = TP/(TP+FN)\n",
    "print('Recall \\n {}'.format(Recall))\n",
    "Acc = (TP+TN)/(TP+TN+FP+FN)\n",
    "print('Áccuracy \\n{}'.format(Acc))\n",
    "Fscore = 2*(Precision*Recall)/(Precision+Recall)\n",
    "print('FScore \\n{}'.format(Fscore))\n",
    "\n"
   ]
  },
  {
   "cell_type": "code",
   "execution_count": 2,
   "metadata": {},
   "outputs": [
    {
     "name": "stdout",
     "output_type": "stream",
     "text": [
      "[[35  5]\n",
      " [ 4 47]]\n"
     ]
    }
   ],
   "source": [
    "print(cm)"
   ]
  },
  {
   "cell_type": "code",
   "execution_count": null,
   "metadata": {},
   "outputs": [],
   "source": []
  }
 ],
 "metadata": {
  "kernelspec": {
   "display_name": "Python 3",
   "language": "python",
   "name": "python3"
  },
  "language_info": {
   "codemirror_mode": {
    "name": "ipython",
    "version": 3
   },
   "file_extension": ".py",
   "mimetype": "text/x-python",
   "name": "python",
   "nbconvert_exporter": "python",
   "pygments_lexer": "ipython3",
   "version": "3.8.3"
  }
 },
 "nbformat": 4,
 "nbformat_minor": 4
}
