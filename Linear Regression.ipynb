{
 "cells": [
  {
   "attachments": {
    "f1.png": {
     "image/png": "[encoded data removed]"
    },
    "f2.bmp": {
     "image/bmp": "[encoded data removed]"
    }
   },
   "cell_type": "markdown",
   "metadata": {},
   "source": [
    "Linear Regression is a statistical supervised learning technique to predict the best fit line for a given dataset.\n",
    "\n",
    " Simple Linear Regression:\n",
    " \n",
    "Simple Linear Regression helps to find the linear relationship between two continuous variables,One independent and one dependent feature.\n",
    "\n",
    "Formula can be represented as y=mx+b\n",
    "\n",
    "What is a slope?\n",
    "In a regression context, the slope is very important in the equation because it tells you how much you can expect Y to change as X increases.\n",
    "It is denoted by m in the formula y = mx+b.\n",
    "\n",
    "![f1.png](attachment:f1.png)\n",
    "\n",
    "\n",
    "calculating regression coefficients \n",
    "\n",
    "![f2.bmp](attachment:f2.bmp)\n",
    "\n",
    "b_1=  ( SUM(xy)-n MEAN(x) MEAN(y) )/( SUM(x2)- n (MEAN(x) * MEAN(X)) )   ->Slope\n",
    "\n",
    "b_0=  SUM(y) - b_1 SUM(x)                                    -->Intercept\n",
    "\n",
    "SUM here sumation"
   ]
  },
  {
   "cell_type": "code",
   "execution_count": 3,
   "metadata": {},
   "outputs": [
    {
     "name": "stdout",
     "output_type": "stream",
     "text": [
      "     6.1101    17.592\n",
      "0    5.5277   9.13020\n",
      "1    8.5186  13.66200\n",
      "2    7.0032  11.85400\n",
      "3    5.8598   6.82330\n",
      "4    8.3829  11.88600\n",
      "..      ...       ...\n",
      "91   5.8707   7.20290\n",
      "92   5.3054   1.98690\n",
      "93   8.2934   0.14454\n",
      "94  13.3940   9.05510\n",
      "95   5.4369   0.61705\n",
      "\n",
      "[96 rows x 2 columns]\n",
      "[ 5.5277  8.5186  7.0032  5.8598  8.3829  7.4764  8.5781  6.4862  5.0546\n",
      "  5.7107 14.164   5.734   8.4084  5.6407  5.3794  6.3654  5.1301  6.4296\n",
      "  7.0708  6.1891 20.27    5.4901  6.3261  5.5649 18.945  12.828  10.957\n",
      " 13.176  22.203   5.2524  6.5894  9.2482  5.8918  8.2111  7.9334  8.0959\n",
      "  5.6063 12.836   6.3534  5.4069  6.8825 11.708   5.7737  7.8247  7.0931\n",
      "  5.0702  5.8014 11.7     5.5416  7.5402  5.3077  7.4239  7.6031  6.3328\n",
      "  6.3589  6.2742  5.6397  9.3102  9.4536  8.8254  5.1793 21.279  14.908\n",
      " 18.959   7.2182  8.2951 10.236   5.4994 20.341  10.136   7.3345  6.0062\n",
      "  7.2259  5.0269  6.5479  7.5386  5.0365 10.274   5.1077  5.7292  5.1884\n",
      "  6.3557  9.7687  6.5159  8.5172  9.1802  6.002   5.5204  5.0594  5.7077\n",
      "  7.6366  5.8707  5.3054  8.2934 13.394   5.4369]\n",
      "[ 9.1302  13.662   11.854    6.8233  11.886    4.3483  12.       6.5987\n",
      "  3.8166   3.2522  15.505    3.1551   7.2258   0.71618  3.5129   5.3048\n",
      "  0.56077  3.6518   5.3893   3.1386  21.767    4.263    5.1875   3.0825\n",
      " 22.638   13.501    7.0467  14.692   24.147   -1.22     5.9966  12.134\n",
      "  1.8495   6.5426   4.5623   4.1164   3.3928  10.117    5.4974   0.55657\n",
      "  3.9115   5.3854   2.4406   6.7318   1.0463   5.1337   1.844    8.0043\n",
      "  1.0179   6.7504   1.8396   4.2885   4.9981   1.4233  -1.4211   2.4756\n",
      "  4.6042   3.9624   5.4141   5.1694  -0.74279 17.929   12.054   17.054\n",
      "  4.8852   5.7442   7.7754   1.0173  20.992    6.6799   4.0259   1.2784\n",
      "  3.3411  -2.6807   0.29678  3.8845   5.7014   6.7526   2.0576   0.47953\n",
      "  0.20421  0.67861  7.5435   5.3436   4.2415   6.7981   0.92695  0.152\n",
      "  2.8214   1.8451   4.2959   7.2029   1.9869   0.14454  9.0551   0.61705]\n",
      "Estimated coefficients: b_0 = -4.211504005424091 b_1 = 1.2135472539083587\n"
     ]
    },
    {
     "data": {
      "image/png": "[encoded data removed]",
      "text/plain": [
       "<Figure size 432x288 with 1 Axes>"
      ]
     },
     "metadata": {
      "needs_background": "light"
     },
     "output_type": "display_data"
    }
   ],
   "source": [
    "import numpy as np\n",
    "import pandas as pd\n",
    "import matplotlib.pyplot as plt \n",
    "  \n",
    "def estimate_coef(x, y): \n",
    "    # number of observations/points \n",
    "    n = np.size(x) \n",
    "  \n",
    "    # mean of x and y vector \n",
    "    m_x, m_y = np.mean(x), np.mean(y) \n",
    "  \n",
    "    # calculating cross-deviation and deviation about x \n",
    "    num = np.sum(y*x) - n*m_y*m_x \n",
    "    den = np.sum(x*x) - n*m_x*m_x \n",
    "  \n",
    "    # calculating regression coefficients \n",
    "    m = num/ den\n",
    "    c = m_y - m*m_x \n",
    "  \n",
    "    return(c,m) \n",
    "  \n",
    "def plot_regression_line(x, y, b): \n",
    "    # plotting the actual points as scatter plot \n",
    "    plt.scatter(x, y, color = \"m\", \n",
    "               marker = \"o\", s = 30) \n",
    "  \n",
    "    # predicted response vector \n",
    "    y_pred = b[0] + b[1]*x \n",
    "  \n",
    "    # plotting the regression line \n",
    "    plt.plot(x, y_pred, color = \"g\") \n",
    "  \n",
    "    # putting labels \n",
    "    plt.xlabel('x') \n",
    "    plt.ylabel('y') \n",
    "  \n",
    "    # function to show plot \n",
    "    plt.show() \n",
    "  \n",
    "def main(): \n",
    "    # observations\n",
    "    dataset = pd.read_csv('Food-Truck-LineReg.csv')\n",
    "    print(dataset)\n",
    "\n",
    "    x = dataset.iloc[:97,0]\n",
    "    x = np.array(x)\n",
    "     \n",
    "    y = dataset.iloc[:97,1]\n",
    "    y=np.array(y)\n",
    "   \n",
    "  \n",
    "    # estimating coefficients \n",
    "    b = estimate_coef(x, y) \n",
    "    print(\"Estimated coefficients: b_0 = {} b_1 = {}\".format(b[0], b[1])) \n",
    "  \n",
    "    # plotting regression line \n",
    "    plot_regression_line(x, y, b) \n",
    "  \n",
    "if __name__ == \"__main__\": \n",
    "    main() \n",
    "    "
   ]
  },
  {
   "cell_type": "code",
   "execution_count": null,
   "metadata": {},
   "outputs": [],
   "source": []
  }
 ],
 "metadata": {
  "kernelspec": {
   "display_name": "Python 3",
   "language": "python",
   "name": "python3"
  },
  "language_info": {
   "codemirror_mode": {
    "name": "ipython",
    "version": 3
   },
   "file_extension": ".py",
   "mimetype": "text/x-python",
   "name": "python",
   "nbconvert_exporter": "python",
   "pygments_lexer": "ipython3",
   "version": "3.8.3"
  }
 },
 "nbformat": 4,
 "nbformat_minor": 4
}
